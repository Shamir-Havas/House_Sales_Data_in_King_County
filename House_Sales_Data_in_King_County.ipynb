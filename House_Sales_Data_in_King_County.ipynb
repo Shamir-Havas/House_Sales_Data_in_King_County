{
 "cells": [
  {
   "cell_type": "markdown",
   "metadata": {},
   "source": [
    "# House Sales Data in King County\n",
    "This notebook analyzes the King County House Sales dataset. We explore the data types, perform exploratory data analysis (EDA), and apply different regression models (Linear Regression, Polynomial Regression, Ridge Regression). The aim is to understand the relationships between house features and sale price."
   ]
  },
  {
   "cell_type": "markdown",
   "metadata": {},
   "source": [
    "## Step 1: Display Data Types"
   ]
  },
  {
   "cell_type": "markdown",
   "metadata": {},
   "source": [
    "We begin by checking the data types of each column using the `dtypes` attribute."
   ]
  },
  {
   "cell_type": "code",
   "execution_count": 1,
   "metadata": {
    "colab": {
     "base_uri": "https://localhost:8080/",
     "height": 71
    },
    "id": "0RKfPnQmiER4",
    "outputId": "b9f2b810-b168-4483-e663-009bc7e2aba9",
    "scrolled": true
   },
   "outputs": [
    {
     "ename": "ModuleNotFoundError",
     "evalue": "No module named 'google.colab'",
     "output_type": "error",
     "traceback": [
      "\u001b[31m---------------------------------------------------------------------------\u001b[39m",
      "\u001b[31mModuleNotFoundError\u001b[39m                       Traceback (most recent call last)",
      "\u001b[36mCell\u001b[39m\u001b[36m \u001b[39m\u001b[32mIn[1]\u001b[39m\u001b[32m, line 17\u001b[39m\n\u001b[32m     12\u001b[39m \u001b[38;5;28;01mfrom\u001b[39;00m\u001b[38;5;250m \u001b[39m\u001b[34;01msklearn\u001b[39;00m\u001b[34;01m.\u001b[39;00m\u001b[34;01mmodel_selection\u001b[39;00m\u001b[38;5;250m \u001b[39m\u001b[38;5;28;01mimport\u001b[39;00m train_test_split\n\u001b[32m     14\u001b[39m \u001b[38;5;66;03m# ====================================================\u001b[39;00m\n\u001b[32m     15\u001b[39m \u001b[38;5;66;03m# STEP 1: Uploading  CSV file manually in Colab\u001b[39;00m\n\u001b[32m     16\u001b[39m \u001b[38;5;66;03m# ====================================================\u001b[39;00m\n\u001b[32m---> \u001b[39m\u001b[32m17\u001b[39m \u001b[38;5;28;01mfrom\u001b[39;00m\u001b[38;5;250m \u001b[39m\u001b[34;01mgoogle\u001b[39;00m\u001b[34;01m.\u001b[39;00m\u001b[34;01mcolab\u001b[39;00m\u001b[38;5;250m \u001b[39m\u001b[38;5;28;01mimport\u001b[39;00m files\n\u001b[32m     18\u001b[39m uploaded = files.upload()\n",
      "\u001b[31mModuleNotFoundError\u001b[39m: No module named 'google.colab'"
     ]
    }
   ],
   "source": [
    "# ====================================================\n",
    "# FINAL INTEGRATED SCRIPT FOR HOUSE DATA ASSIGNMENT\n",
    "# ====================================================\n",
    "\n",
    "# STEP 0: Import libraries\n",
    "import pandas as pd\n",
    "import seaborn as sns\n",
    "import matplotlib.pyplot as plt\n",
    "from sklearn.linear_model import LinearRegression, Ridge\n",
    "from sklearn.preprocessing import StandardScaler, PolynomialFeatures\n",
    "from sklearn.pipeline import Pipeline\n",
    "from sklearn.model_selection import train_test_split\n",
    "\n",
    "# ====================================================\n",
    "# STEP 1: Uploading  CSV file manually in Colab\n",
    "# ====================================================\n",
    "from google.colab import files\n",
    "uploaded = files.upload()"
   ]
  },
  {
   "cell_type": "markdown",
   "metadata": {},
   "source": [
    "## Step 2: Drop Columns and Statistical Summary"
   ]
  },
  {
   "cell_type": "markdown",
   "metadata": {},
   "source": [
    "We drop the columns `id` and `Unnamed: 0` and then use `describe()` to generate a statistical summary of the dataset."
   ]
  },
  {
   "cell_type": "code",
   "execution_count": 30,
   "metadata": {
    "colab": {
     "base_uri": "https://localhost:8080/"
    },
    "id": "dkuTvuodiEUm",
    "outputId": "fd3c95f3-1e1a-4ff2-fb61-fdc2da236941"
   },
   "outputs": [
    {
     "name": "stdout",
     "output_type": "stream",
     "text": [
      "id                 int64\n",
      "date              object\n",
      "price            float64\n",
      "bedrooms           int64\n",
      "bathrooms        float64\n",
      "sqft_living        int64\n",
      "sqft_lot           int64\n",
      "floors           float64\n",
      "waterfront         int64\n",
      "view               int64\n",
      "condition          int64\n",
      "grade              int64\n",
      "sqft_above         int64\n",
      "sqft_basement      int64\n",
      "yr_built           int64\n",
      "yr_renovated       int64\n",
      "zipcode            int64\n",
      "lat              float64\n",
      "long             float64\n",
      "sqft_living15      int64\n",
      "sqft_lot15         int64\n",
      "dtype: object\n"
     ]
    }
   ],
   "source": [
    "# Replace filename with the one uploaded\n",
    "csv_path = list(uploaded.keys())[0]\n",
    "df = pd.read_csv(csv_path)\n",
    "\n",
    "# ====================================================\n",
    "# STEP 2: Display column data types\n",
    "# ====================================================\n",
    "print(df.dtypes)"
   ]
  },
  {
   "cell_type": "markdown",
   "metadata": {},
   "source": [
    "## Step 3: Value Counts of Floors"
   ]
  },
  {
   "cell_type": "markdown",
   "metadata": {},
   "source": [
    "We count the number of houses with unique floor values using `value_counts()` and convert the result into a DataFrame."
   ]
  },
  {
   "cell_type": "code",
   "execution_count": 31,
   "metadata": {
    "colab": {
     "base_uri": "https://localhost:8080/"
    },
    "id": "z__J6byJiEW_",
    "outputId": "b6b4a533-8c02-4181-c9f0-ed72338200b2"
   },
   "outputs": [
    {
     "name": "stdout",
     "output_type": "stream",
     "text": [
      "              price      bedrooms     bathrooms   sqft_living      sqft_lot  \\\n",
      "count  2.161300e+04  21613.000000  21613.000000  21613.000000  2.161300e+04   \n",
      "mean   5.400881e+05      3.370842      2.114757   2079.899736  1.510697e+04   \n",
      "std    3.671272e+05      0.930062      0.770163    918.440897  4.142051e+04   \n",
      "min    7.500000e+04      0.000000      0.000000    290.000000  5.200000e+02   \n",
      "25%    3.219500e+05      3.000000      1.750000   1427.000000  5.040000e+03   \n",
      "50%    4.500000e+05      3.000000      2.250000   1910.000000  7.618000e+03   \n",
      "75%    6.450000e+05      4.000000      2.500000   2550.000000  1.068800e+04   \n",
      "max    7.700000e+06     33.000000      8.000000  13540.000000  1.651359e+06   \n",
      "\n",
      "             floors    waterfront          view     condition         grade  \\\n",
      "count  21613.000000  21613.000000  21613.000000  21613.000000  21613.000000   \n",
      "mean       1.494309      0.007542      0.234303      3.409430      7.656873   \n",
      "std        0.539989      0.086517      0.766318      0.650743      1.175459   \n",
      "min        1.000000      0.000000      0.000000      1.000000      1.000000   \n",
      "25%        1.000000      0.000000      0.000000      3.000000      7.000000   \n",
      "50%        1.500000      0.000000      0.000000      3.000000      7.000000   \n",
      "75%        2.000000      0.000000      0.000000      4.000000      8.000000   \n",
      "max        3.500000      1.000000      4.000000      5.000000     13.000000   \n",
      "\n",
      "         sqft_above  sqft_basement      yr_built  yr_renovated       zipcode  \\\n",
      "count  21613.000000   21613.000000  21613.000000  21613.000000  21613.000000   \n",
      "mean    1788.390691     291.509045   1971.005136     84.402258  98077.939805   \n",
      "std      828.090978     442.575043     29.373411    401.679240     53.505026   \n",
      "min      290.000000       0.000000   1900.000000      0.000000  98001.000000   \n",
      "25%     1190.000000       0.000000   1951.000000      0.000000  98033.000000   \n",
      "50%     1560.000000       0.000000   1975.000000      0.000000  98065.000000   \n",
      "75%     2210.000000     560.000000   1997.000000      0.000000  98118.000000   \n",
      "max     9410.000000    4820.000000   2015.000000   2015.000000  98199.000000   \n",
      "\n",
      "                lat          long  sqft_living15     sqft_lot15  \n",
      "count  21613.000000  21613.000000   21613.000000   21613.000000  \n",
      "mean      47.560053   -122.213896    1986.552492   12768.455652  \n",
      "std        0.138564      0.140828     685.391304   27304.179631  \n",
      "min       47.155900   -122.519000     399.000000     651.000000  \n",
      "25%       47.471000   -122.328000    1490.000000    5100.000000  \n",
      "50%       47.571800   -122.230000    1840.000000    7620.000000  \n",
      "75%       47.678000   -122.125000    2360.000000   10083.000000  \n",
      "max       47.777600   -121.315000    6210.000000  871200.000000  \n"
     ]
    }
   ],
   "source": [
    "# ====================================================\n",
    "# STEP 3: Drop 'id' and 'Unnamed: 0' if present\n",
    "# ====================================================\n",
    "cols_to_drop = [col for col in [\"id\", \"Unnamed: 0\"] if col in df.columns]\n",
    "df.drop(cols_to_drop, axis=1, inplace=True)\n",
    "\n",
    "print(df.describe())"
   ]
  },
  {
   "cell_type": "markdown",
   "metadata": {},
   "source": [
    "## Step 4: Boxplot for Waterfront vs Price"
   ]
  },
  {
   "cell_type": "markdown",
   "metadata": {},
   "source": [
    "We create a boxplot to visualize whether houses with a waterfront view have more price outliers compared to those without."
   ]
  },
  {
   "cell_type": "code",
   "execution_count": 32,
   "metadata": {
    "colab": {
     "base_uri": "https://localhost:8080/"
    },
    "id": "AgLwjjLhiEZ4",
    "outputId": "7128ba65-c307-4a64-aa00-49754608c9de"
   },
   "outputs": [
    {
     "name": "stdout",
     "output_type": "stream",
     "text": [
      "        count\n",
      "floors       \n",
      "1.0     10680\n",
      "2.0      8241\n",
      "1.5      1910\n",
      "3.0       613\n",
      "2.5       161\n",
      "3.5         8\n"
     ]
    }
   ],
   "source": [
    "# ====================================================\n",
    "# STEP 4: Value counts of floors\n",
    "# ====================================================\n",
    "floors_df = df[\"floors\"].value_counts().to_frame()\n",
    "print(floors_df)"
   ]
  },
  {
   "cell_type": "markdown",
   "metadata": {},
   "source": [
    "## Step 5: Regression Plot for sqft_above vs Price"
   ]
  },
  {
   "cell_type": "markdown",
   "metadata": {},
   "source": [
    "We generate a regression plot to check whether `sqft_above` is positively or negatively correlated with `price`."
   ]
  },
  {
   "cell_type": "code",
   "execution_count": 33,
   "metadata": {
    "colab": {
     "base_uri": "https://localhost:8080/",
     "height": 564
    },
    "id": "2SX9STGWiEb_",
    "outputId": "464fb46a-4490-428f-f694-3429379cc64c"
   },
   "outputs": [
    {
     "data": {
      "image/png": "[encoded data removed]",
      "text/plain": [
       "<Figure size 800x600 with 1 Axes>"
      ]
     },
     "metadata": {},
     "output_type": "display_data"
    }
   ],
   "source": [
    "# ====================================================\n",
    "# STEP 5: Boxplot waterfront vs price\n",
    "# ====================================================\n",
    "plt.figure(figsize=(8,6))\n",
    "sns.boxplot(x=\"waterfront\", y=\"price\", data=df)\n",
    "plt.title(\"Price Distribution by Waterfront\")\n",
    "plt.show()"
   ]
  },
  {
   "cell_type": "markdown",
   "metadata": {},
   "source": [
    "## Step 6: Linear Regression with sqft_living"
   ]
  },
  {
   "cell_type": "markdown",
   "metadata": {},
   "source": [
    "We fit a simple linear regression model using only `sqft_living` to predict house prices, and calculate the R² score."
   ]
  },
  {
   "cell_type": "code",
   "execution_count": 34,
   "metadata": {
    "colab": {
     "base_uri": "https://localhost:8080/",
     "height": 564
    },
    "id": "MoY3UaHMiEfV",
    "outputId": "d50b58d2-e058-433c-859b-aa1d729423d0"
   },
   "outputs": [
    {
     "data": {
      "image/png": "[encoded data removed]",
      "text/plain": [
       "<Figure size 800x600 with 1 Axes>"
      ]
     },
     "metadata": {},
     "output_type": "display_data"
    }
   ],
   "source": [
    "# ====================================================\n",
    "# STEP 6: Regplot sqft_above vs price\n",
    "# ====================================================\n",
    "plt.figure(figsize=(8,6))\n",
    "sns.regplot(x=\"sqft_above\", y=\"price\", data=df, line_kws={\"color\":\"red\"})\n",
    "plt.title(\"Correlation between sqft_above and Price\")\n",
    "plt.show()"
   ]
  },
  {
   "cell_type": "markdown",
   "metadata": {},
   "source": [
    "## Step 7: Linear Regression with Multiple Features"
   ]
  },
  {
   "cell_type": "markdown",
   "metadata": {},
   "source": [
    "We fit a linear regression model using multiple features to predict house prices, and calculate the R² score."
   ]
  },
  {
   "cell_type": "code",
   "execution_count": 35,
   "metadata": {
    "colab": {
     "base_uri": "https://localhost:8080/"
    },
    "id": "cIDVI1MLiEhN",
    "outputId": "cca824c8-81ca-4659-de90-77f9265eabf4"
   },
   "outputs": [
    {
     "name": "stdout",
     "output_type": "stream",
     "text": [
      "R^2 with sqft_living: 0.4928532179037931\n"
     ]
    }
   ],
   "source": [
    "# ====================================================\n",
    "# STEP 7: Linear Regression with sqft_living\n",
    "# ====================================================\n",
    "X = df[[\"sqft_living\"]]\n",
    "y = df[\"price\"]\n",
    "\n",
    "lm = LinearRegression()\n",
    "lm.fit(X, y)\n",
    "r2_sqft_living = lm.score(X, y)\n",
    "print(\"R^2 with sqft_living:\", r2_sqft_living)"
   ]
  },
  {
   "cell_type": "markdown",
   "metadata": {},
   "source": [
    "## Step 8: Pipeline with Scaling, Polynomial Transformation, and Linear Regression"
   ]
  },
  {
   "cell_type": "markdown",
   "metadata": {},
   "source": [
    "We build a pipeline that scales the data, applies a polynomial transformation, and fits a linear regression model. The R² score is then calculated."
   ]
  },
  {
   "cell_type": "code",
   "execution_count": 36,
   "metadata": {
    "colab": {
     "base_uri": "https://localhost:8080/"
    },
    "id": "sLMW_TtMiEj7",
    "outputId": "afb868cf-4572-459f-ea4f-956a373b411f"
   },
   "outputs": [
    {
     "name": "stdout",
     "output_type": "stream",
     "text": [
      "R^2 with multiple features: 0.6577151058279325\n"
     ]
    }
   ],
   "source": [
    "# ====================================================\n",
    "# STEP 8: Linear Regression with multiple features\n",
    "# ====================================================\n",
    "features = [\"floors\",\"waterfront\",\"lat\",\"bedrooms\",\"sqft_basement\",\n",
    "            \"view\",\"bathrooms\",\"sqft_living15\",\"sqft_above\",\"grade\",\"sqft_living\"]\n",
    "\n",
    "X = df[features]\n",
    "y = df[\"price\"]\n",
    "\n",
    "lm2 = LinearRegression()\n",
    "lm2.fit(X, y)\n",
    "r2_multi = lm2.score(X, y)\n",
    "print(\"R^2 with multiple features:\", r2_multi)"
   ]
  },
  {
   "cell_type": "markdown",
   "metadata": {},
   "source": [
    "## Step 9: Ridge Regression"
   ]
  },
  {
   "cell_type": "markdown",
   "metadata": {},
   "source": [
    "We fit a Ridge regression model with alpha=0.1 using the training data and calculate the R² score on the test data."
   ]
  },
  {
   "cell_type": "code",
   "execution_count": 37,
   "metadata": {
    "colab": {
     "base_uri": "https://localhost:8080/"
    },
    "id": "6kIyFWVfiEmK",
    "outputId": "4568de90-2fa0-48af-8e67-a5cae34fb086"
   },
   "outputs": [
    {
     "name": "stdout",
     "output_type": "stream",
     "text": [
      "R^2 with pipeline (poly + scale + linreg): 0.7513467656307783\n"
     ]
    }
   ],
   "source": [
    "# ====================================================\n",
    "# STEP 9: Pipeline with scaling + polynomial + linear regression\n",
    "# ====================================================\n",
    "pipeline = Pipeline([\n",
    "    (\"scale\", StandardScaler()),\n",
    "    (\"poly\", PolynomialFeatures(degree=2, include_bias=False)),\n",
    "    (\"model\", LinearRegression())\n",
    "])\n",
    "\n",
    "pipeline.fit(X, y)\n",
    "r2_pipeline = pipeline.score(X, y)\n",
    "print(\"R^2 with pipeline (poly + scale + linreg):\", r2_pipeline)"
   ]
  },
  {
   "cell_type": "markdown",
   "metadata": {},
   "source": [
    "## Step 10: Ridge Regression with Polynomial Transformation"
   ]
  },
  {
   "cell_type": "markdown",
   "metadata": {},
   "source": [
    "We perform a second-order polynomial transformation, fit a Ridge regression model, and evaluate the R² score on the test data."
   ]
  },
  {
   "cell_type": "code",
   "execution_count": 38,
   "metadata": {
    "colab": {
     "base_uri": "https://localhost:8080/"
    },
    "id": "X7XiCulziEo2",
    "outputId": "198dafb8-e114-447b-edab-7aae970ee248"
   },
   "outputs": [
    {
     "name": "stdout",
     "output_type": "stream",
     "text": [
      "R^2 with Ridge (alpha=0.1): 0.6614734596866667\n"
     ]
    }
   ],
   "source": [
    "# ====================================================\n",
    "# STEP 10: Ridge regression (train/test split)\n",
    "# ====================================================\n",
    "X_train, X_test, y_train, y_test = train_test_split(X, y, test_size=0.2, random_state=42)\n",
    "\n",
    "ridge = Ridge(alpha=0.1)\n",
    "ridge.fit(X_train, y_train)\n",
    "r2_ridge = ridge.score(X_test, y_test)\n",
    "print(\"R^2 with Ridge (alpha=0.1):\", r2_ridge)"
   ]
  },
  {
   "cell_type": "code",
   "execution_count": 39,
   "metadata": {
    "colab": {
     "base_uri": "https://localhost:8080/"
    },
    "id": "KAqowIw6iErH",
    "outputId": "fdda22f5-980c-4c25-9a88-2e858774160c"
   },
   "outputs": [
    {
     "name": "stdout",
     "output_type": "stream",
     "text": [
      "R^2 with Ridge + Poly (alpha=0.1): 0.7003486869405865\n"
     ]
    }
   ],
   "source": [
    "# ====================================================\n",
    "# STEP 11: Ridge regression with polynomial transform\n",
    "# ====================================================\n",
    "poly = PolynomialFeatures(degree=2, include_bias=False)\n",
    "X_train_poly = poly.fit_transform(X_train)\n",
    "X_test_poly = poly.transform(X_test)\n",
    "\n",
    "ridge_poly = Ridge(alpha=0.1)\n",
    "ridge_poly.fit(X_train_poly, y_train)\n",
    "r2_ridge_poly = ridge_poly.score(X_test_poly, y_test)\n",
    "print(\"R^2 with Ridge + Poly (alpha=0.1):\", r2_ridge_poly)"
   ]
  },
  {
   "cell_type": "code",
   "execution_count": null,
   "metadata": {
    "id": "dwj-wEY9iEtp"
   },
   "outputs": [],
   "source": []
  },
  {
   "cell_type": "code",
   "execution_count": null,
   "metadata": {
    "id": "H3_5Rf67iEv1"
   },
   "outputs": [],
   "source": []
  },
  {
   "cell_type": "code",
   "execution_count": null,
   "metadata": {
    "id": "fGO8RiDYiEyb"
   },
   "outputs": [],
   "source": []
  },
  {
   "cell_type": "code",
   "execution_count": null,
   "metadata": {
    "id": "8iGocnAHiE02"
   },
   "outputs": [],
   "source": []
  },
  {
   "cell_type": "markdown",
   "metadata": {},
   "source": [
    "## Conclusion\n",
    "In this notebook, we explored the King County House Sales dataset through multiple steps:\n",
    "- Identified data types and generated descriptive statistics.\n",
    "- Conducted exploratory analysis with plots and value counts.\n",
    "- Applied Linear Regression with a single feature (`sqft_living`) and multiple features.\n",
    "- Built pipelines with scaling and polynomial transformations.\n",
    "- Implemented Ridge regression with and without polynomial features.\n",
    "\n",
    "**Results:**\n",
    "- Simple Linear Regression (sqft_living): R² ≈ 0.49\n",
    "- Multiple Linear Regression: R² ≈ 0.66\n",
    "- Pipeline with polynomial transform: R² ≈ 0.75\n",
    "- Ridge Regression: R² ≈ 0.65\n",
    "- Ridge Regression with polynomial features: R² ≈ 0.70\n",
    "\n",
    "These results demonstrate how model complexity and regularization affect predictive performance."
   ]
  }
 ],
 "metadata": {
  "colab": {
   "provenance": []
  },
  "kernelspec": {
   "display_name": "Python 3 (ipykernel)",
   "language": "python",
   "name": "python3"
  },
  "language_info": {
   "codemirror_mode": {
    "name": "ipython",
    "version": 3
   },
   "file_extension": ".py",
   "mimetype": "text/x-python",
   "name": "python",
   "nbconvert_exporter": "python",
   "pygments_lexer": "ipython3",
   "version": "3.11.6"
  }
 },
 "nbformat": 4,
 "nbformat_minor": 4
}
